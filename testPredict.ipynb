{
 "cells": [
  {
   "cell_type": "code",
   "execution_count": 6,
   "id": "north-status",
   "metadata": {},
   "outputs": [],
   "source": [
    "from pathlib import Path\n",
    "import glob\n",
    "import numpy as np\n",
    "import csv\n",
    "import matplotlib.pyplot as plt\n",
    "from PIL import Image\n",
    "from tensorflow import keras\n",
    "import tensorflow as tf\n"
   ]
  },
  {
   "cell_type": "code",
   "execution_count": 7,
   "id": "impressed-cologne",
   "metadata": {},
   "outputs": [],
   "source": [
    "legpath=Path(\"./legs\")\n",
    "headpath=Path(\".head\")\n",
    "\n",
    "imagesToPredict=[]\n",
    "imagesToPredictLabels=[]\n",
    "                \n",
    "\n",
    "def imagesToPredictFn():\n",
    "     for head in glob.glob(\"images/predict/*.JPG\"):\n",
    "        img = Image.open(str(head))\n",
    "        resized_im=img.resize((32,32)).convert('RGB')\n",
    "        convert_np=np.array(resized_im)\n",
    "        csv_format_img=[convert_np, '1']\n",
    "        imagesToPredictLabels.append(1)\n",
    "        imagesToPredict.append(np.array(convert_np))\n",
    "        \n",
    "        #plt.imshow(np.array(convert_np))\n",
    "        #plt.show()\n",
    "    \n",
    "\n",
    "imagesToPredictFn()\n",
    "\n",
    "\n",
    "imagesToPredict= (np.array(imagesToPredict,dtype='uint8'))\n",
    "imagesToPredictLabels= (np.array(imagesToPredictLabels,dtype='uint8'))\n",
    "\n",
    "class_names=[\"Bacterial_leaf _blight\",\"Brown_spot\",\"Leaf_smut\"]"
   ]
  },
  {
   "cell_type": "code",
   "execution_count": 8,
   "id": "photographic-independence",
   "metadata": {},
   "outputs": [],
   "source": [
    "model = keras.models.load_model('my_model2.h5')\n"
   ]
  },
  {
   "cell_type": "code",
   "execution_count": 9,
   "id": "quantitative-heath",
   "metadata": {},
   "outputs": [
    {
     "name": "stdout",
     "output_type": "stream",
     "text": [
      "1/1 [==============================] - 0s 35ms/step\n"
     ]
    }
   ],
   "source": [
    "prediction=model.predict(imagesToPredict)\n"
   ]
  },
  {
   "cell_type": "code",
   "execution_count": 10,
   "id": "accomplished-worker",
   "metadata": {},
   "outputs": [
    {
     "data": {
      "text/plain": [
       "'Brown_spot'"
      ]
     },
     "execution_count": 10,
     "metadata": {},
     "output_type": "execute_result"
    }
   ],
   "source": [
    "str(class_names[np.argmax(prediction[0])])"
   ]
  },
  {
   "cell_type": "code",
   "execution_count": null,
   "id": "3b8033dd-726e-4630-907a-3cb8b90be566",
   "metadata": {},
   "outputs": [],
   "source": []
  }
 ],
 "metadata": {
  "kernelspec": {
   "display_name": "Python 3 (ipykernel)",
   "language": "python",
   "name": "python3"
  },
  "language_info": {
   "codemirror_mode": {
    "name": "ipython",
    "version": 3
   },
   "file_extension": ".py",
   "mimetype": "text/x-python",
   "name": "python",
   "nbconvert_exporter": "python",
   "pygments_lexer": "ipython3",
   "version": "3.11.6"
  }
 },
 "nbformat": 4,
 "nbformat_minor": 5
}
